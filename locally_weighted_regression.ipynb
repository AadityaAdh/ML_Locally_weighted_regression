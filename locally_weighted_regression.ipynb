{
  "nbformat": 4,
  "nbformat_minor": 0,
  "metadata": {
    "colab": {
      "provenance": [],
      "authorship_tag": "ABX9TyNszX6aPT8wmUruSGiPbDIi",
      "include_colab_link": true
    },
    "kernelspec": {
      "name": "python3",
      "display_name": "Python 3"
    },
    "language_info": {
      "name": "python"
    }
  },
  "cells": [
    {
      "cell_type": "markdown",
      "metadata": {
        "id": "view-in-github",
        "colab_type": "text"
      },
      "source": [
        "<a href=\"https://colab.research.google.com/github/AadityaAdh/ML_Locally_weighted_regression/blob/main/locally_weighted_regression.ipynb\" target=\"_parent\"><img src=\"https://colab.research.google.com/assets/colab-badge.svg\" alt=\"Open In Colab\"/></a>"
      ]
    },
    {
      "cell_type": "code",
      "execution_count": null,
      "metadata": {
        "id": "eQsHfLwMOXRx"
      },
      "outputs": [],
      "source": [
        "import numpy as np\n",
        "import matplotlib.pyplot as plt\n",
        "import math"
      ]
    },
    {
      "cell_type": "code",
      "source": [
        "dataset=np.array(([1,1],[2,3],[3,5],[4,3],[5,1],[6,1],[7,3],[8,5]),dtype=float)\n",
        "features=dataset[:,:1]\n",
        "target=dataset[:,1:]\n",
        "print(features)\n",
        "print(target)\n"
      ],
      "metadata": {
        "colab": {
          "base_uri": "https://localhost:8080/"
        },
        "id": "LKRbhMj3OkWe",
        "outputId": "73f74763-41de-4a05-9253-5caea41922fe"
      },
      "execution_count": null,
      "outputs": [
        {
          "output_type": "stream",
          "name": "stdout",
          "text": [
            "[[1.]\n",
            " [2.]\n",
            " [3.]\n",
            " [4.]\n",
            " [5.]\n",
            " [6.]\n",
            " [7.]\n",
            " [8.]]\n",
            "[[1.]\n",
            " [3.]\n",
            " [5.]\n",
            " [3.]\n",
            " [1.]\n",
            " [1.]\n",
            " [3.]\n",
            " [5.]]\n"
          ]
        }
      ]
    },
    {
      "cell_type": "code",
      "source": [
        "plt.plot(features,target)\n",
        "plt.show()"
      ],
      "metadata": {
        "colab": {
          "base_uri": "https://localhost:8080/",
          "height": 451
        },
        "id": "bOofk6gcQqyc",
        "outputId": "87b8a49b-3fe0-422f-d8cf-28058b09f972"
      },
      "execution_count": null,
      "outputs": [
        {
          "output_type": "display_data",
          "data": {
            "text/plain": [
              "<Figure size 640x480 with 1 Axes>"
            ],
            "image/png": "[encoded data removed]"
          },
          "metadata": {}
        }
      ]
    },
    {
      "cell_type": "code",
      "source": [
        "x=7\n",
        "def hypothesis(theta0,theta1,x1):\n",
        "  h=theta0+theta1*x1\n",
        "  return h"
      ],
      "metadata": {
        "id": "4CXkTwbUQ7qs"
      },
      "execution_count": null,
      "outputs": []
    },
    {
      "cell_type": "code",
      "source": [
        "myweight=np.empty_like(features)\n",
        "def weight(x,features,myweight):\n",
        "  for index in range(len(features)):\n",
        "    diff=(x-features[index])**2\n",
        "    tau = 1.65\n",
        "    aa=math.exp(-diff / (2 * tau**2))\n",
        "    myweight[index] = aa\n",
        "\n",
        "  return myweight\n",
        "\n",
        "myweight=weight(x,features,myweight)\n",
        "print(myweight)\n",
        "\n"
      ],
      "metadata": {
        "id": "Sv57bS_ae7pm",
        "colab": {
          "base_uri": "https://localhost:8080/"
        },
        "outputId": "a533f1da-5007-4f08-e2d4-ea6c4e658e91"
      },
      "execution_count": null,
      "outputs": [
        {
          "output_type": "stream",
          "name": "stdout",
          "text": [
            "[[0.00134472]\n",
            " [0.01013898]\n",
            " [0.05294638]\n",
            " [0.1914952 ]\n",
            " [0.47968823]\n",
            " [0.8322231 ]\n",
            " [1.        ]\n",
            " [0.8322231 ]]\n"
          ]
        }
      ]
    },
    {
      "cell_type": "code",
      "source": [
        "def update_theta(theta0,theta1,features_train,targets_train):\n",
        "  sum_pd0=0\n",
        "  for index in range(len(features_train)):\n",
        "    diffn=hypothesis(theta0,theta1,features_train[index])-targets_train[index]\n",
        "    sum_pd0=sum_pd0+diffn*myweight[index]\n",
        "  #for theta1\n",
        "  sum_pd1=0\n",
        "  for index in range(len(features_train)):\n",
        "    diffn=hypothesis(theta0,theta1,features_train[index])-targets_train[index]\n",
        "    sum_pd1=sum_pd1+myweight[index]*(diffn*features_train[index])\n",
        "  theta0=theta0-0.00001*sum_pd0\n",
        "  theta1=theta1-0.00001*sum_pd1\n",
        "  return theta0,theta1"
      ],
      "metadata": {
        "id": "jzj5Wu8CfC5Y"
      },
      "execution_count": null,
      "outputs": []
    },
    {
      "cell_type": "code",
      "source": [
        "theta0 = 0\n",
        "theta1 = 0\n",
        "prev_theta0 = 999\n",
        "prev_theta1 = 999\n",
        "count = 0\n",
        "tolerance = 1e-6\n",
        "\n",
        "while count <= 100000:\n",
        "    prev_theta0 = theta0\n",
        "    prev_theta1 = theta1\n",
        "    theta0, theta1 = update_theta(theta0, theta1, features, target)\n",
        "    delta_theta0 = abs(theta0 - prev_theta0)\n",
        "    delta_theta1 = abs(theta1 - prev_theta1)\n",
        "    if delta_theta0 < tolerance and delta_theta1 < tolerance:\n",
        "        break\n",
        "    count += 1\n",
        "\n",
        "print(\"Converged after\", count, \"iterations\")\n",
        "print(\"Final theta0:\", theta0)\n",
        "print(\"Final theta1:\", theta1)\n"
      ],
      "metadata": {
        "colab": {
          "base_uri": "https://localhost:8080/"
        },
        "id": "L-CXJqCA_fFt",
        "outputId": "efc3e96d-fc22-434e-eac7-93e006e3e673"
      },
      "execution_count": null,
      "outputs": [
        {
          "output_type": "stream",
          "name": "stdout",
          "text": [
            "Converged after 100001 iterations\n",
            "Final theta0: [-0.22433868]\n",
            "Final theta1: [0.47179114]\n"
          ]
        }
      ]
    }
  ]
}